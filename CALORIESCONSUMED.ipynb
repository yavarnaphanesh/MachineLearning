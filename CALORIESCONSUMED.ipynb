{
 "cells": [
  {
   "cell_type": "markdown",
   "id": "c9e2e0f9",
   "metadata": {},
   "source": [
    "## A certain food-based company conducted a survey with the help of a fitness company to find the relationship between a person’s weight gain and the number of calories they consumed in order to come up with diet plans for these individuals. Build a Simple Linear Regression model with calories consumed as the target variable. Apply necessary transformations and record the RMSE and correlation coefficient values for different models. "
   ]
  },
  {
   "cell_type": "markdown",
   "id": "679fe13d",
   "metadata": {},
   "source": [
    "## Importing necessary libraries"
   ]
  },
  {
   "cell_type": "code",
   "execution_count": 158,
   "id": "6fc011d1",
   "metadata": {},
   "outputs": [],
   "source": [
    "\n",
    "import pandas as pd # deals with data frame  \n",
    "import numpy as np  # deals with numerical values\n",
    "import matplotlib.pyplot as plt\n",
    "from sklearn.linear_model import LinearRegression\n",
    "from sklearn.metrics import mean_squared_error\n",
    "import math\n",
    "import seaborn as sns\n",
    "import warnings \n",
    "warnings.filterwarnings('ignore')"
   ]
  },
  {
   "cell_type": "code",
   "execution_count": 124,
   "id": "cd9c7b08",
   "metadata": {},
   "outputs": [],
   "source": [
    "df = pd.read_csv(r\"C:\\Users\\yavar\\DS_Assignments\\22.Simple Linear Regression\\calories_consumed.csv\")\n",
    "data2=df.copy()"
   ]
  },
  {
   "cell_type": "code",
   "execution_count": 289,
   "id": "25f315f6",
   "metadata": {},
   "outputs": [
    {
     "data": {
      "text/html": [
       "<div>\n",
       "<style scoped>\n",
       "    .dataframe tbody tr th:only-of-type {\n",
       "        vertical-align: middle;\n",
       "    }\n",
       "\n",
       "    .dataframe tbody tr th {\n",
       "        vertical-align: top;\n",
       "    }\n",
       "\n",
       "    .dataframe thead th {\n",
       "        text-align: right;\n",
       "    }\n",
       "</style>\n",
       "<table border=\"1\" class=\"dataframe\">\n",
       "  <thead>\n",
       "    <tr style=\"text-align: right;\">\n",
       "      <th></th>\n",
       "      <th>We</th>\n",
       "      <th>caco</th>\n",
       "    </tr>\n",
       "  </thead>\n",
       "  <tbody>\n",
       "    <tr>\n",
       "      <th>0</th>\n",
       "      <td>108</td>\n",
       "      <td>1500</td>\n",
       "    </tr>\n",
       "    <tr>\n",
       "      <th>1</th>\n",
       "      <td>200</td>\n",
       "      <td>2300</td>\n",
       "    </tr>\n",
       "    <tr>\n",
       "      <th>2</th>\n",
       "      <td>900</td>\n",
       "      <td>3400</td>\n",
       "    </tr>\n",
       "    <tr>\n",
       "      <th>3</th>\n",
       "      <td>200</td>\n",
       "      <td>2200</td>\n",
       "    </tr>\n",
       "    <tr>\n",
       "      <th>4</th>\n",
       "      <td>300</td>\n",
       "      <td>2500</td>\n",
       "    </tr>\n",
       "    <tr>\n",
       "      <th>5</th>\n",
       "      <td>110</td>\n",
       "      <td>1600</td>\n",
       "    </tr>\n",
       "    <tr>\n",
       "      <th>6</th>\n",
       "      <td>128</td>\n",
       "      <td>1400</td>\n",
       "    </tr>\n",
       "    <tr>\n",
       "      <th>7</th>\n",
       "      <td>62</td>\n",
       "      <td>1900</td>\n",
       "    </tr>\n",
       "    <tr>\n",
       "      <th>8</th>\n",
       "      <td>600</td>\n",
       "      <td>2800</td>\n",
       "    </tr>\n",
       "    <tr>\n",
       "      <th>9</th>\n",
       "      <td>1100</td>\n",
       "      <td>3900</td>\n",
       "    </tr>\n",
       "    <tr>\n",
       "      <th>10</th>\n",
       "      <td>100</td>\n",
       "      <td>1670</td>\n",
       "    </tr>\n",
       "    <tr>\n",
       "      <th>11</th>\n",
       "      <td>150</td>\n",
       "      <td>1900</td>\n",
       "    </tr>\n",
       "    <tr>\n",
       "      <th>12</th>\n",
       "      <td>350</td>\n",
       "      <td>2700</td>\n",
       "    </tr>\n",
       "  </tbody>\n",
       "</table>\n",
       "</div>"
      ],
      "text/plain": [
       "      We  caco\n",
       "0    108  1500\n",
       "1    200  2300\n",
       "2    900  3400\n",
       "3    200  2200\n",
       "4    300  2500\n",
       "5    110  1600\n",
       "6    128  1400\n",
       "7     62  1900\n",
       "8    600  2800\n",
       "9   1100  3900\n",
       "10   100  1670\n",
       "11   150  1900\n",
       "12   350  2700"
      ]
     },
     "execution_count": 289,
     "metadata": {},
     "output_type": "execute_result"
    }
   ],
   "source": [
    "df.head(13)"
   ]
  },
  {
   "cell_type": "code",
   "execution_count": 125,
   "id": "a2548c1e",
   "metadata": {},
   "outputs": [
    {
     "name": "stdout",
     "output_type": "stream",
     "text": [
      "<class 'pandas.core.frame.DataFrame'>\n",
      "RangeIndex: 14 entries, 0 to 13\n",
      "Data columns (total 2 columns):\n",
      " #   Column                 Non-Null Count  Dtype\n",
      "---  ------                 --------------  -----\n",
      " 0   Weight gained (grams)  14 non-null     int64\n",
      " 1   Calories Consumed      14 non-null     int64\n",
      "dtypes: int64(2)\n",
      "memory usage: 352.0 bytes\n"
     ]
    }
   ],
   "source": [
    "df.info()"
   ]
  },
  {
   "cell_type": "code",
   "execution_count": 126,
   "id": "c68017c8",
   "metadata": {},
   "outputs": [],
   "source": [
    "df.rename(columns={'Weight gained (grams)':'We','Calories Consumed':'caco'}, inplace=True)"
   ]
  },
  {
   "cell_type": "code",
   "execution_count": 127,
   "id": "6d1bd3fb",
   "metadata": {},
   "outputs": [
    {
     "data": {
      "text/html": [
       "<div>\n",
       "<style scoped>\n",
       "    .dataframe tbody tr th:only-of-type {\n",
       "        vertical-align: middle;\n",
       "    }\n",
       "\n",
       "    .dataframe tbody tr th {\n",
       "        vertical-align: top;\n",
       "    }\n",
       "\n",
       "    .dataframe thead th {\n",
       "        text-align: right;\n",
       "    }\n",
       "</style>\n",
       "<table border=\"1\" class=\"dataframe\">\n",
       "  <thead>\n",
       "    <tr style=\"text-align: right;\">\n",
       "      <th></th>\n",
       "      <th>We</th>\n",
       "      <th>caco</th>\n",
       "    </tr>\n",
       "  </thead>\n",
       "  <tbody>\n",
       "    <tr>\n",
       "      <th>count</th>\n",
       "      <td>14.000000</td>\n",
       "      <td>14.000000</td>\n",
       "    </tr>\n",
       "    <tr>\n",
       "      <th>mean</th>\n",
       "      <td>357.714286</td>\n",
       "      <td>2340.714286</td>\n",
       "    </tr>\n",
       "    <tr>\n",
       "      <th>std</th>\n",
       "      <td>333.692495</td>\n",
       "      <td>752.109488</td>\n",
       "    </tr>\n",
       "    <tr>\n",
       "      <th>min</th>\n",
       "      <td>62.000000</td>\n",
       "      <td>1400.000000</td>\n",
       "    </tr>\n",
       "    <tr>\n",
       "      <th>25%</th>\n",
       "      <td>114.500000</td>\n",
       "      <td>1727.500000</td>\n",
       "    </tr>\n",
       "    <tr>\n",
       "      <th>50%</th>\n",
       "      <td>200.000000</td>\n",
       "      <td>2250.000000</td>\n",
       "    </tr>\n",
       "    <tr>\n",
       "      <th>75%</th>\n",
       "      <td>537.500000</td>\n",
       "      <td>2775.000000</td>\n",
       "    </tr>\n",
       "    <tr>\n",
       "      <th>max</th>\n",
       "      <td>1100.000000</td>\n",
       "      <td>3900.000000</td>\n",
       "    </tr>\n",
       "  </tbody>\n",
       "</table>\n",
       "</div>"
      ],
      "text/plain": [
       "                We         caco\n",
       "count    14.000000    14.000000\n",
       "mean    357.714286  2340.714286\n",
       "std     333.692495   752.109488\n",
       "min      62.000000  1400.000000\n",
       "25%     114.500000  1727.500000\n",
       "50%     200.000000  2250.000000\n",
       "75%     537.500000  2775.000000\n",
       "max    1100.000000  3900.000000"
      ]
     },
     "execution_count": 127,
     "metadata": {},
     "output_type": "execute_result"
    }
   ],
   "source": [
    "df.describe()"
   ]
  },
  {
   "cell_type": "code",
   "execution_count": 128,
   "id": "29261fe8",
   "metadata": {},
   "outputs": [
    {
     "data": {
      "text/plain": [
       "We      0\n",
       "caco    0\n",
       "dtype: int64"
      ]
     },
     "execution_count": 128,
     "metadata": {},
     "output_type": "execute_result"
    }
   ],
   "source": [
    "df.isnull().sum()"
   ]
  },
  {
   "cell_type": "markdown",
   "id": "4d1089fb",
   "metadata": {},
   "source": [
    "## Box plot, Scatter plot and Skewness"
   ]
  },
  {
   "cell_type": "code",
   "execution_count": 129,
   "id": "b0476756",
   "metadata": {},
   "outputs": [
    {
     "data": {
      "image/png": "[encoded data removed]",
      "text/plain": [
       "<Figure size 432x288 with 1 Axes>"
      ]
     },
     "metadata": {
      "needs_background": "light"
     },
     "output_type": "display_data"
    }
   ],
   "source": [
    "df.boxplot();"
   ]
  },
  {
   "cell_type": "code",
   "execution_count": 239,
   "id": "d7f42d54",
   "metadata": {},
   "outputs": [
    {
     "data": {
      "image/png": "[encoded data removed]",
      "text/plain": [
       "<Figure size 432x288 with 1 Axes>"
      ]
     },
     "metadata": {
      "needs_background": "light"
     },
     "output_type": "display_data"
    }
   ],
   "source": [
    "plt.scatter(df['We'],df['caco']);"
   ]
  },
  {
   "cell_type": "code",
   "execution_count": 196,
   "id": "c88d0e93",
   "metadata": {},
   "outputs": [
    {
     "data": {
      "image/png": "[encoded data removed]",
      "text/plain": [
       "<Figure size 432x288 with 1 Axes>"
      ]
     },
     "metadata": {
      "needs_background": "light"
     },
     "output_type": "display_data"
    }
   ],
   "source": [
    "sns.distplot( df['We'] , color=\"skyblue\",label = \"Skewness: %f\" % df['We'].skew() + \"\\n\" + \"Kurtosis: %f\" % df['We'].kurt())\n",
    "plt.legend();"
   ]
  },
  {
   "cell_type": "code",
   "execution_count": 238,
   "id": "0b7d6849",
   "metadata": {
    "scrolled": true
   },
   "outputs": [
    {
     "data": {
      "image/png": "[encoded data removed]",
      "text/plain": [
       "<Figure size 432x288 with 1 Axes>"
      ]
     },
     "metadata": {
      "needs_background": "light"
     },
     "output_type": "display_data"
    }
   ],
   "source": [
    "sns.distplot( df['caco'] , color=\"skyblue\",label = \"Skewness: %f\" % df['caco'].skew() + \"\\n\" + \"Kurtosis: %f\" % df['caco'].kurt())\n",
    "plt.legend();\n"
   ]
  },
  {
   "cell_type": "code",
   "execution_count": 247,
   "id": "6c4a1f13",
   "metadata": {},
   "outputs": [
    {
     "name": "stdout",
     "output_type": "stream",
     "text": [
      "[[1.         0.94699101]\n",
      " [0.94699101 1.        ]]\n"
     ]
    }
   ],
   "source": [
    "corre = np.corrcoef(df['We'],df['caco'])\n",
    "print(corre)"
   ]
  },
  {
   "cell_type": "code",
   "execution_count": 249,
   "id": "f834bec2",
   "metadata": {},
   "outputs": [
    {
     "name": "stdout",
     "output_type": "stream",
     "text": [
      "[[111350.68131868 237669.45054945]\n",
      " [237669.45054945 565668.68131868]]\n"
     ]
    }
   ],
   "source": [
    "cov = np.cov(df['We'],df['caco'])\n",
    "print(cov)"
   ]
  },
  {
   "cell_type": "markdown",
   "id": "6f4268f3",
   "metadata": {},
   "source": [
    "# Simple Linear Regression "
   ]
  },
  {
   "cell_type": "code",
   "execution_count": 292,
   "id": "d51ae516",
   "metadata": {},
   "outputs": [],
   "source": [
    "x=np.array(we).reshape(-1,1)\n",
    "y=np.array(caco).reshape(-1,1)"
   ]
  },
  {
   "cell_type": "code",
   "execution_count": 293,
   "id": "b8677876",
   "metadata": {},
   "outputs": [
    {
     "name": "stdout",
     "output_type": "stream",
     "text": [
      "0.8967919708530552\n"
     ]
    }
   ],
   "source": [
    "model = LinearRegression()\n",
    "model.fit(x,y)\n",
    "\n",
    "print(model.score(x, y))"
   ]
  },
  {
   "cell_type": "code",
   "execution_count": 295,
   "id": "13278157",
   "metadata": {},
   "outputs": [
    {
     "name": "stdout",
     "output_type": "stream",
     "text": [
      "MSE             :  2029.670838901154\n",
      "R squared value : 0.8967919708530552\n"
     ]
    }
   ],
   "source": [
    "regression_model_mse = mean_squared_error(x,y)\n",
    "\n",
    "MSE = math.sqrt(regression_model_mse)\n",
    "print(\"MSE             : \", MSE)\n",
    "Rsqr = model.score(x,y)\n",
    "print(\"R squared value :\",Rsqr)"
   ]
  },
  {
   "cell_type": "code",
   "execution_count": 296,
   "id": "e673571b",
   "metadata": {},
   "outputs": [
    {
     "name": "stdout",
     "output_type": "stream",
     "text": [
      "Coefficient b0 : [2.13442296]\n",
      "Intercept b1   : 1577.2007020291894\n"
     ]
    }
   ],
   "source": [
    "print(\"Coefficient b0 :\",model.coef_[0])\n",
    "print(\"Intercept b1   :\",model.intercept_[0])"
   ]
  },
  {
   "cell_type": "code",
   "execution_count": 314,
   "id": "e13b3273",
   "metadata": {},
   "outputs": [],
   "source": [
    "pred1= model.predict(pd.DataFrame(df['We']))"
   ]
  },
  {
   "cell_type": "code",
   "execution_count": 315,
   "id": "687b2652",
   "metadata": {},
   "outputs": [
    {
     "data": {
      "image/png": "[encoded data removed]",
      "text/plain": [
       "<Figure size 432x288 with 1 Axes>"
      ]
     },
     "metadata": {
      "needs_background": "light"
     },
     "output_type": "display_data"
    }
   ],
   "source": [
    "plt.scatter(we,caco, color = 'green')\n",
    "plt.plot(df.We,pred1,'r')\n",
    "plt.title(\"Linear Regression\")\n",
    "plt.legend(['Observed data','Predicted line'])\n",
    "plt.show()"
   ]
  },
  {
   "cell_type": "code",
   "execution_count": 298,
   "id": "5c0fa493",
   "metadata": {},
   "outputs": [
    {
     "name": "stdout",
     "output_type": "stream",
     "text": [
      "232.8335007096089\n"
     ]
    }
   ],
   "source": [
    "y_predicted = model.predict(x)\n",
    "y_actual = y\n",
    "def rmse(predictions, targets):\n",
    "\n",
    "    differences = predictions - targets                       #the DIFFERENCEs.\n",
    "\n",
    "    differences_squared = differences ** 2                    #the SQUAREs of ^\n",
    "\n",
    "    mean_of_differences_squared = differences_squared.mean()  #the MEAN of ^\n",
    "\n",
    "    rmse_val = np.sqrt(mean_of_differences_squared)           #ROOT of ^\n",
    "\n",
    "    return rmse_val                                           #get the ^\n",
    "\n",
    "print(rmse(y_predicted,y_actual))"
   ]
  },
  {
   "cell_type": "code",
   "execution_count": 300,
   "id": "9fb42eb5",
   "metadata": {},
   "outputs": [
    {
     "name": "stdout",
     "output_type": "stream",
     "text": [
      "Prediction by the model:  [[1790.64299779]]\n"
     ]
    }
   ],
   "source": [
    "print(\"Prediction by the model: \", model.predict([[100]])) # actual value is 1670"
   ]
  },
  {
   "cell_type": "code",
   "execution_count": 286,
   "id": "b71cf874",
   "metadata": {},
   "outputs": [
    {
     "data": {
      "text/html": [
       "<table class=\"simpletable\">\n",
       "<caption>OLS Regression Results</caption>\n",
       "<tr>\n",
       "  <th>Dep. Variable:</th>          <td>caco</td>       <th>  R-squared:         </th> <td>   0.897</td>\n",
       "</tr>\n",
       "<tr>\n",
       "  <th>Model:</th>                   <td>OLS</td>       <th>  Adj. R-squared:    </th> <td>   0.888</td>\n",
       "</tr>\n",
       "<tr>\n",
       "  <th>Method:</th>             <td>Least Squares</td>  <th>  F-statistic:       </th> <td>   104.3</td>\n",
       "</tr>\n",
       "<tr>\n",
       "  <th>Date:</th>             <td>Mon, 11 Jul 2022</td> <th>  Prob (F-statistic):</th> <td>2.86e-07</td>\n",
       "</tr>\n",
       "<tr>\n",
       "  <th>Time:</th>                 <td>19:54:04</td>     <th>  Log-Likelihood:    </th> <td> -96.170</td>\n",
       "</tr>\n",
       "<tr>\n",
       "  <th>No. Observations:</th>      <td>    14</td>      <th>  AIC:               </th> <td>   196.3</td>\n",
       "</tr>\n",
       "<tr>\n",
       "  <th>Df Residuals:</th>          <td>    12</td>      <th>  BIC:               </th> <td>   197.6</td>\n",
       "</tr>\n",
       "<tr>\n",
       "  <th>Df Model:</th>              <td>     1</td>      <th>                     </th>     <td> </td>   \n",
       "</tr>\n",
       "<tr>\n",
       "  <th>Covariance Type:</th>      <td>nonrobust</td>    <th>                     </th>     <td> </td>   \n",
       "</tr>\n",
       "</table>\n",
       "<table class=\"simpletable\">\n",
       "<tr>\n",
       "      <td></td>         <th>coef</th>     <th>std err</th>      <th>t</th>      <th>P>|t|</th>  <th>[0.025</th>    <th>0.975]</th>  \n",
       "</tr>\n",
       "<tr>\n",
       "  <th>Intercept</th> <td> 1577.2007</td> <td>  100.541</td> <td>   15.687</td> <td> 0.000</td> <td> 1358.141</td> <td> 1796.260</td>\n",
       "</tr>\n",
       "<tr>\n",
       "  <th>we</th>        <td>    2.1344</td> <td>    0.209</td> <td>   10.211</td> <td> 0.000</td> <td>    1.679</td> <td>    2.590</td>\n",
       "</tr>\n",
       "</table>\n",
       "<table class=\"simpletable\">\n",
       "<tr>\n",
       "  <th>Omnibus:</th>       <td> 0.254</td> <th>  Durbin-Watson:     </th> <td>   2.308</td>\n",
       "</tr>\n",
       "<tr>\n",
       "  <th>Prob(Omnibus):</th> <td> 0.881</td> <th>  Jarque-Bera (JB):  </th> <td>   0.425</td>\n",
       "</tr>\n",
       "<tr>\n",
       "  <th>Skew:</th>          <td>-0.098</td> <th>  Prob(JB):          </th> <td>   0.808</td>\n",
       "</tr>\n",
       "<tr>\n",
       "  <th>Kurtosis:</th>      <td> 2.169</td> <th>  Cond. No.          </th> <td>    719.</td>\n",
       "</tr>\n",
       "</table><br/><br/>Notes:<br/>[1] Standard Errors assume that the covariance matrix of the errors is correctly specified."
      ],
      "text/plain": [
       "<class 'statsmodels.iolib.summary.Summary'>\n",
       "\"\"\"\n",
       "                            OLS Regression Results                            \n",
       "==============================================================================\n",
       "Dep. Variable:                   caco   R-squared:                       0.897\n",
       "Model:                            OLS   Adj. R-squared:                  0.888\n",
       "Method:                 Least Squares   F-statistic:                     104.3\n",
       "Date:                Mon, 11 Jul 2022   Prob (F-statistic):           2.86e-07\n",
       "Time:                        19:54:04   Log-Likelihood:                -96.170\n",
       "No. Observations:                  14   AIC:                             196.3\n",
       "Df Residuals:                      12   BIC:                             197.6\n",
       "Df Model:                           1                                         \n",
       "Covariance Type:            nonrobust                                         \n",
       "==============================================================================\n",
       "                 coef    std err          t      P>|t|      [0.025      0.975]\n",
       "------------------------------------------------------------------------------\n",
       "Intercept   1577.2007    100.541     15.687      0.000    1358.141    1796.260\n",
       "we             2.1344      0.209     10.211      0.000       1.679       2.590\n",
       "==============================================================================\n",
       "Omnibus:                        0.254   Durbin-Watson:                   2.308\n",
       "Prob(Omnibus):                  0.881   Jarque-Bera (JB):                0.425\n",
       "Skew:                          -0.098   Prob(JB):                        0.808\n",
       "Kurtosis:                       2.169   Cond. No.                         719.\n",
       "==============================================================================\n",
       "\n",
       "Notes:\n",
       "[1] Standard Errors assume that the covariance matrix of the errors is correctly specified.\n",
       "\"\"\""
      ]
     },
     "execution_count": 286,
     "metadata": {},
     "output_type": "execute_result"
    }
   ],
   "source": [
    "import statsmodels.formula.api as smf\n",
    "\n",
    "model = smf.ols('caco ~ we',data = df).fit()\n",
    "model.summary()"
   ]
  },
  {
   "cell_type": "markdown",
   "id": "8fa5d683",
   "metadata": {},
   "source": [
    "The R^2 was 0.897 \n",
    "This is the best model.\n"
   ]
  }
 ],
 "metadata": {
  "kernelspec": {
   "display_name": "Python 3 (ipykernel)",
   "language": "python",
   "name": "python3"
  },
  "language_info": {
   "codemirror_mode": {
    "name": "ipython",
    "version": 3
   },
   "file_extension": ".py",
   "mimetype": "text/x-python",
   "name": "python",
   "nbconvert_exporter": "python",
   "pygments_lexer": "ipython3",
   "version": "3.10.5"
  }
 },
 "nbformat": 4,
 "nbformat_minor": 5
}
